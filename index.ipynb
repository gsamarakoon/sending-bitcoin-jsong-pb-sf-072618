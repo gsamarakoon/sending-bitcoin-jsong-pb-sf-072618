{
 "cells": [
  {
   "cell_type": "markdown",
   "metadata": {},
   "source": [
    "# Sending Bitcoin!\n",
    "\n",
    "#### Send 0.04 TBTC to this address `muvpVznkBtk8rRSxLRVQRdUhsMjS7aKRne`\n",
    "\n",
    "#### Go here to send your transaction: https://testnet.blockexplorer.com/tx/send or https://live.blockcypher.com/btc-testnet/pushtx/"
   ]
  },
  {
   "cell_type": "code",
   "execution_count": 5,
   "metadata": {},
   "outputs": [
    {
     "name": "stdout",
     "output_type": "stream",
     "text": [
      "0100000001067cf8f64930af25ef62fc20b0bd31c92d7784b95d6471c138fe6422bebd2fc1070000006a473044022017a70fbf9cff47f2ea756966858f272f4930947164c15f61c17762acbc5b89cc02205202b95579f610349965e6688fdbd81a613d4808ea882493ba74bc92a4922168012102867fb4acf89ad758109cc064fd412e111efd2b9b9c55dc21b7c478cc300c58b9ffffffff0200093d00000000001976a9149e153ce5de3689901301309b9e8d804ab4804d4b88ac00093d00000000001976a9143ef36577b57b582385008fbe5caf7fe20138bd3788ac00000000\n"
     ]
    }
   ],
   "source": [
    "from ecc import PrivateKey\n",
    "from helper import decode_base58, p2pkh_script, SIGHASH_ALL\n",
    "from script import Script\n",
    "from tx import TxIn, TxOut, Tx\n",
    "\n",
    "prev_tx = bytes.fromhex('c12fbdbe2264fe38c171645db984772dc931bdb020fc62ef25af3049f6f87c06')\n",
    "prev_index = 7 # FILL THIS IN\n",
    "target_address = 'muvpVznkBtk8rRSxLRVQRdUhsMjS7aKRne'\n",
    "target_amount = 0.04\n",
    "change_address = 'mmFomRUzGiEZC3G51mH7BU5vdKh6ZM6SB2'\n",
    "change_amount = 0.04 # CALCULATE THIS\n",
    "secret = 29299285892992858\n",
    "priv = PrivateKey(secret=secret)\n",
    "\n",
    "# initialize inputs\n",
    "tx_ins = []\n",
    "# create a new tx input with prev_tx, prev_index, blank script_sig and max sequence\n",
    "tx_ins.append(TxIn(\n",
    "            prev_tx=prev_tx,\n",
    "            prev_index=prev_index,\n",
    "            script_sig=b'',\n",
    "            sequence=0xffffffff))\n",
    "# initialize outputs\n",
    "tx_outs = []    \n",
    "# decode the hash160 from the target address\n",
    "h160 = decode_base58(target_address)\n",
    "# convert hash160 to p2pkh script\n",
    "script_pubkey = p2pkh_script(h160)\n",
    "# convert target amount to satoshis (multiply by 100 million)\n",
    "target_satoshis = int(target_amount*100000000)\n",
    "# create a new tx output for target with amount and script_pubkey\n",
    "tx_outs.append(TxOut(\n",
    "    amount=target_satoshis,\n",
    "    script_pubkey=script_pubkey,\n",
    "))\n",
    "# decode the hash160 from the change address\n",
    "h160 = decode_base58(change_address)\n",
    "# convert hash160 to p2pkh script\n",
    "script_pubkey = p2pkh_script(h160)\n",
    "# convert change amount to satoshis (multiply by 100 million)\n",
    "change_satoshis = int(change_amount*100000000)\n",
    "# create a new tx output for target with amount and script_pubkey\n",
    "tx_outs.append(TxOut(\n",
    "    amount=change_satoshis,\n",
    "    script_pubkey=script_pubkey,\n",
    "))\n",
    "\n",
    "# create the transaction\n",
    "tx_obj = Tx(version=1, tx_ins=tx_ins, tx_outs=tx_outs, locktime=0, testnet=True)\n",
    "\n",
    "# now sign the 0th input with the private key using SIGHASH_ALL using sign_input\n",
    "tx_obj.sign_input(0, priv, SIGHASH_ALL)\n",
    "# SANITY CHECK: change address corresponds to private key\n",
    "if priv.point.address(testnet=True) != change_address:\n",
    "    raise RuntimeError('Private Key does not correspond to Change Address, check priv_key and change_address')\n",
    "\n",
    "# SANITY CHECK: output's script_pubkey is the same one as your address\n",
    "if tx_ins[0].script_pubkey(testnet=True).elements[2] != decode_base58(change_address):\n",
    "    raise RuntimeError('Output is not something you can spend with this private key. Check that the prev_tx and prev_index are correct')\n",
    "\n",
    "# SANITY CHECK: fee is reasonable\n",
    "if tx_obj.fee() > 0.05*100000000 or tx_obj.fee() <= 0:\n",
    "    raise RuntimeError('Check that the change amount is reasonable. Fee is {}'.format(tx_obj.fee()))\n",
    "\n",
    "# serialize and hex()\n",
    "print(tx_obj.serialize().hex())"
   ]
  },
  {
   "cell_type": "markdown",
   "metadata": {},
   "source": [
    "### Bonus:\n",
    "\n",
    "Get some testnet coins and spend both outputs (one from your change address and one from the testnet faucet) to `muvpVznkBtk8rRSxLRVQRdUhsMjS7aKRne`\n",
    "\n",
    "#### You can get some free testnet coins at: https://testnet.coinfaucet.eu/en/"
   ]
  },
  {
   "cell_type": "code",
   "execution_count": 8,
   "metadata": {
    "scrolled": true
   },
   "outputs": [
    {
     "ename": "RuntimeError",
     "evalue": "Output is not something you can spend with this private key. Check that the prev_tx and prev_index are correct",
     "output_type": "error",
     "traceback": [
      "\u001b[0;31m\u001b[0m",
      "\u001b[0;31mRuntimeError\u001b[0mTraceback (most recent call last)",
      "\u001b[0;32m<ipython-input-8-5e11c3332632>\u001b[0m in \u001b[0;36m<module>\u001b[0;34m()\u001b[0m\n\u001b[1;32m     54\u001b[0m \u001b[0;31m# SANITY CHECK: output's script_pubkey is the same one as your address\u001b[0m\u001b[0;34m\u001b[0m\u001b[0;34m\u001b[0m\u001b[0m\n\u001b[1;32m     55\u001b[0m \u001b[0;32mif\u001b[0m \u001b[0mtx_ins\u001b[0m\u001b[0;34m[\u001b[0m\u001b[0;36m0\u001b[0m\u001b[0;34m]\u001b[0m\u001b[0;34m.\u001b[0m\u001b[0mscript_pubkey\u001b[0m\u001b[0;34m(\u001b[0m\u001b[0mtestnet\u001b[0m\u001b[0;34m=\u001b[0m\u001b[0;32mTrue\u001b[0m\u001b[0;34m)\u001b[0m\u001b[0;34m.\u001b[0m\u001b[0melements\u001b[0m\u001b[0;34m[\u001b[0m\u001b[0;36m2\u001b[0m\u001b[0;34m]\u001b[0m \u001b[0;34m!=\u001b[0m \u001b[0mdecode_base58\u001b[0m\u001b[0;34m(\u001b[0m\u001b[0mpriv\u001b[0m\u001b[0;34m.\u001b[0m\u001b[0mpoint\u001b[0m\u001b[0;34m.\u001b[0m\u001b[0maddress\u001b[0m\u001b[0;34m(\u001b[0m\u001b[0mtestnet\u001b[0m\u001b[0;34m=\u001b[0m\u001b[0;32mTrue\u001b[0m\u001b[0;34m)\u001b[0m\u001b[0;34m)\u001b[0m\u001b[0;34m:\u001b[0m\u001b[0;34m\u001b[0m\u001b[0m\n\u001b[0;32m---> 56\u001b[0;31m     \u001b[0;32mraise\u001b[0m \u001b[0mRuntimeError\u001b[0m\u001b[0;34m(\u001b[0m\u001b[0;34m'Output is not something you can spend with this private key. Check that the prev_tx and prev_index are correct'\u001b[0m\u001b[0;34m)\u001b[0m\u001b[0;34m\u001b[0m\u001b[0m\n\u001b[0m\u001b[1;32m     57\u001b[0m \u001b[0;34m\u001b[0m\u001b[0m\n\u001b[1;32m     58\u001b[0m \u001b[0;31m# SANITY CHECK: fee is reasonable\u001b[0m\u001b[0;34m\u001b[0m\u001b[0;34m\u001b[0m\u001b[0m\n",
      "\u001b[0;31mRuntimeError\u001b[0m: Output is not something you can spend with this private key. Check that the prev_tx and prev_index are correct"
     ]
    }
   ],
   "source": [
    "# Bonus\n",
    "\n",
    "from ecc import PrivateKey\n",
    "from helper import decode_base58, p2pkh_script, SIGHASH_ALL\n",
    "from script import Script\n",
    "from tx import TxIn, TxOut, Tx\n",
    "\n",
    "prev_tx_1 = bytes.fromhex('89cbfe2eddaddf1eb11f5c4adf6adaa9bca4adc01b2a3d03f8dd36125c068af4')\n",
    "prev_index_1 = 0\n",
    "prev_tx_2 = bytes.fromhex('19069e1304d95f70e03311d9d58ee821e0978e83ecfc47a30af7cd10fca55cf4')\n",
    "prev_index_2 = 0\n",
    "target_address = 'muvpVznkBtk8rRSxLRVQRdUhsMjS7aKRne'\n",
    "target_amount = 0.1\n",
    "secret = 29299285892992858\n",
    "priv = PrivateKey(secret=secret)\n",
    "\n",
    "# initialize inputs\n",
    "tx_ins = []\n",
    "# create the first tx input with prev_tx_1, prev_index_1, blank script_sig and max sequence\n",
    "tx_ins.append(TxIn(\n",
    "    prev_tx=prev_tx_1,\n",
    "    prev_index=prev_index_1,\n",
    "    script_sig=b'',\n",
    "    sequence=0xffffffff,\n",
    "))\n",
    "# create the second tx input with prev_tx_2, prev_index_2, blank script_sig and max sequence\n",
    "tx_ins.append(TxIn(\n",
    "    prev_tx=prev_tx_2,\n",
    "    prev_index=prev_index_2,\n",
    "    script_sig=b'',\n",
    "    sequence=0xffffffff,\n",
    "))\n",
    "\n",
    "# initialize outputs\n",
    "tx_outs = []\n",
    "# decode the hash160 from the target address\n",
    "h160 = decode_base58(target_address)\n",
    "# convert hash160 to p2pkh script\n",
    "script_pubkey = p2pkh_script(h160)\n",
    "# convert target amount to satoshis (multiply by 100 million)\n",
    "target_satoshis = int(target_amount*100000000)\n",
    "# create a single tx output for target with amount and script_pubkey\n",
    "tx_outs.append(TxOut(\n",
    "    amount=target_satoshis,\n",
    "    script_pubkey=script_pubkey,\n",
    "))\n",
    "\n",
    "# create the transaction\n",
    "tx_obj = Tx(1, tx_ins, tx_outs, 0, testnet=True)\n",
    "\n",
    "# sign both inputs with the private key using SIGHASH_ALL using sign_input\n",
    "tx_obj.sign_input(0, priv, SIGHASH_ALL)\n",
    "tx_obj.sign_input(1, priv, SIGHASH_ALL)\n",
    "# SANITY CHECK: output's script_pubkey is the same one as your address\n",
    "if tx_ins[0].script_pubkey(testnet=True).elements[2] != decode_base58(priv.point.address(testnet=True)):\n",
    "    raise RuntimeError('Output is not something you can spend with this private key. Check that the prev_tx and prev_index are correct')\n",
    "\n",
    "# SANITY CHECK: fee is reasonable\n",
    "if tx_obj.fee() > 0.05*100000000 or tx_obj.fee() <= 0:\n",
    "    raise RuntimeError('Check that the change amount is reasonable. Fee is {}'.format(tx_obj.fee()))\n",
    "\n",
    "# serialize and hex()\n",
    "print(tx_obj.serialize().hex())"
   ]
  },
  {
   "cell_type": "code",
   "execution_count": null,
   "metadata": {},
   "outputs": [],
   "source": []
  }
 ],
 "metadata": {
  "kernelspec": {
   "display_name": "Python 3",
   "language": "python",
   "name": "python3"
  },
  "language_info": {
   "codemirror_mode": {
    "name": "ipython",
    "version": 3
   },
   "file_extension": ".py",
   "mimetype": "text/x-python",
   "name": "python",
   "nbconvert_exporter": "python",
   "pygments_lexer": "ipython3",
   "version": "3.6.6"
  }
 },
 "nbformat": 4,
 "nbformat_minor": 2
}
